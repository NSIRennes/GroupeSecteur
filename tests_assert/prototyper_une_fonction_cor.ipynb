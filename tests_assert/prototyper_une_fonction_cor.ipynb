{
 "cells": [
  {
   "cell_type": "markdown",
   "metadata": {},
   "source": [
    "<img src=\"img/python.png\" width=\"200\">\n",
    "\n",
    "#  <center><font color = blue>Prototyper une fontion</font></center>\n",
    "\n"
   ]
  },
  {
   "cell_type": "markdown",
   "metadata": {},
   "source": [
    "Un programme est constitué de fonctions. \n",
    "Chaque fonction doit être correctement écrite. \n",
    "Quand le programme est en cours d'élaboration il peut arriver qu'on modifie une fonction et qu'elle ne réalise plus ce que l'on attende d'elle et que l'on ne s'en rende pas compte.\n",
    "Plus généralement il est prudent d'avoir des techniques de vérification du bon fonctionnement d'une fonction.\n",
    "Plusieurs outils sont utilisables:\n",
    "* Spécifier la fonction\n",
    "* définir les pré-conditions\n",
    "* définir les post conditions\n",
    "' "
   ]
  },
  {
   "cell_type": "markdown",
   "metadata": {},
   "source": [
    "### <font color = blue>Spécifier la fonction </font> \n",
    "consiste à définir précisement:\n",
    "<ul>\n",
    "<li> ce que fait la fonction</li>\n",
    "<li> les paramètres qu'elle prend en compte</li>\n",
    "<li> les valeurs qu'elle retourne</li>\n",
    "</ul>\n",
    "\n",
    "<font color = red> Définir les spécifications de la fonction suivante </font>"
   ]
  },
  {
   "cell_type": "code",
   "execution_count": null,
   "metadata": {},
   "outputs": [],
   "source": [
    "def pesanteur(m, r, h):\n",
    "    \"\"\"\n",
    "    calcule l acceleration de la pesanteur d'une planete\n",
    "    parametres: masse en kg, rayon en m et altitude par rapport au sol en m\n",
    "    valeur retournée: g en ms-2 \n",
    "    \"\"\"\n",
    "    G = 6.67E-11\n",
    "    g = round(G*m/(r+h)**2,2)\n",
    "    return(g)\n",
    "\n",
    "\n",
    "if __name__ == \"__main__\":\n",
    "    \n",
    "    # caractéristiques des planètes\n",
    "    planetes = [[\"terre\",5.976E24,6.373E6],[\"mars\",6.42E23, 3.397E6], [\"lune\",7.349E22, 1.7374E6]]\n",
    "    \n",
    "    # demande la planète et l'altitude et affiche sa pesanteur\n",
    "    n =int(input(\"choisir la planete (0: terre, 1: mars, 2: lune \"))\n",
    "    alt= int(input(\"choisir l'altitude en m \"))\n",
    "    print(\"la pesanteur de la \", planetes[n][0], \"vaut: \",pesanteur(planetes[n][1],planetes[n][2], alt), \" m.s-2\")\n",
    "                                                               \n",
    " "
   ]
  },
  {
   "cell_type": "markdown",
   "metadata": {},
   "source": [
    "### <font color = blue>Définir les pré-conditions </font> \n",
    "une pré-condition est une condition qui doit être vérifiée avant l'appel de la fonction. \n",
    "On garantit ainsi son bon fonctionnement par rapport à cette pré-condition <font color = red > mais attention cela ne garantit que cela.</font>\n",
    "\n",
    "Exemple: une fonction pesanteur doit vérifier que le rayon et la masse ne sont pas nuls.\n",
    "Pour cela on utilise l'instruction  **<font color = green>assert </font>** \n",
    "Si la condition assert est vérifiée il ne se passe rien sinon le code cesse de s'éxécuter et un message <font color = red>AssertionError </font>  apparait dans la console.\n",
    "\n",
    "<font color = red > Tester le programme suivant en mettant en évidence le fonctionnement de sa précondition </font>.\n"
   ]
  },
  {
   "cell_type": "code",
   "execution_count": null,
   "metadata": {},
   "outputs": [],
   "source": [
    "def pesanteur(m, r, h):\n",
    "    \"\"\"\n",
    "    calcule l acceleration de la pesanteur d'une planète\n",
    "    paramètres: masse en kg, rayon en m et altitude par rapport au sol en m\n",
    "    valeur retournée: g en ms-2 \n",
    "    \"\"\"\n",
    "    #pré-condition\n",
    "    assert r+h != 0\n",
    "        \n",
    "    # calcul pesanteur\n",
    "    G = 6.67E-11\n",
    "    g = G*m/(r+h)**2\n",
    "    \n",
    "    return(g)\n",
    "\n",
    "print(pesanteur(5.976E24,6.373E6,0))\n",
    "print(pesanteur(5.976E24,0,0))"
   ]
  },
  {
   "cell_type": "markdown",
   "metadata": {},
   "source": [
    "### <font color = blue>Définir les post-conditions </font> \n",
    "une post-condition doit être vérifiée quand la fonction est terminée. \n",
    "Elle porte sur la valeur de retour.\n",
    "Elle est écrite en dehors de la fonction.\n",
    "\n",
    "Exemple: une fonction pesanteur doit vérifier que la pesanteur sur terre vaut 9.81  m.s-2 à l'altitude 0.\n",
    "\n",
    "\n",
    "\n",
    "<font color = red >Tester le programme suivant en mettant en évidence le fonctionnement de sa post-condition, en créer une autre. </font>.\n"
   ]
  },
  {
   "cell_type": "code",
   "execution_count": null,
   "metadata": {},
   "outputs": [],
   "source": [
    "def pesanteur(m, r, h):\n",
    "    \"\"\"\n",
    "    calcule l acceleration de la pesanteur d'une planete\n",
    "    parametres: masse en kg, rayon en m et altitude par rapport au sol en m\n",
    "    valeur retournée: g en ms-2 \n",
    "    \"\"\"\n",
    "    #pré-condition\n",
    "    assert m!=0\n",
    "    assert r!=0\n",
    "    \n",
    "    G = 6.67E-11\n",
    "    g = round(G*m/(r+h)**2,2)\n",
    "    return(g)\n",
    "\n",
    "#post-condition de pesanteur()\n",
    "assert pesanteur(5.976E24,6.373E6,0) == 9.81\n",
    "assert pesanteur(6.42E23, 3.397E6,0) == 3.71\n",
    "\n",
    "print(pesanteur(6.42E23, 3.397E6,0))"
   ]
  },
  {
   "cell_type": "markdown",
   "metadata": {
    "collapsed": true
   },
   "source": [
    "### <font color = blue>Le Test unitaire avec Doctest: </font>\n",
    "les doctests vont s’exécuter et se plaindre si rien ne se comporte comme décrit dans les docstrings. \n",
    "La syntaxe est présentée ci-dessous:"
   ]
  },
  {
   "cell_type": "code",
   "execution_count": null,
   "metadata": {},
   "outputs": [],
   "source": [
    "def nom_fonction (paramètres):\n",
    "\n",
    "    # Doctrings\n",
    "   \"\"\"\n",
    "   Présentation de la fonction testée\n",
    "   >>> test1\n",
    "   resultat1\n",
    "   >>> test2\n",
    "   resultat2\n",
    "   ...   \n",
    "   \"\"\"    \n",
    "   \n",
    "    instructions de la fonction\n",
    "   \n",
    "    return (valeurs)\n",
    "\n",
    "# active les tests unitaires qu'en local\n",
    "if __name__ == \"__main__\":\n",
    "    import doctest\n",
    "    doctest.testmod()   "
   ]
  },
  {
   "cell_type": "code",
   "execution_count": null,
   "metadata": {},
   "outputs": [],
   "source": [
    "# exemple\n",
    "\n",
    "def sum(x,y):\n",
    "    \"\"\"\n",
    "    Calcule la somme de x et de y\n",
    "    Tests sum:\n",
    "    >>> sum(1,2)\n",
    "    3\n",
    "    >>> sum(-2,1)\n",
    "    -1\n",
    "    \"\"\"\n",
    "    return x+y\n",
    "\n",
    "if __name__ == \"__main__\":\n",
    "    import doctest\n",
    "    doctest.testmod()"
   ]
  },
  {
   "cell_type": "markdown",
   "metadata": {},
   "source": [
    "<font color = red>Tester le code suivant et corriger l'erreur</font>"
   ]
  },
  {
   "cell_type": "code",
   "execution_count": null,
   "metadata": {},
   "outputs": [],
   "source": [
    "# exemple\n",
    "\n",
    "def sum(x,y):\n",
    "    \"\"\"\n",
    "    Calcule la somme de x et de y\n",
    "    Tests sum:\n",
    "    >>> sum(1,2)\n",
    "    1\n",
    "    >>> sum(-2,1)\n",
    "    -1\n",
    "    \"\"\"\n",
    "    return x+y\n",
    "\n",
    "if __name__ == \"__main__\":\n",
    "    import doctest\n",
    "    doctest.testmod()"
   ]
  },
  {
   "cell_type": "code",
   "execution_count": null,
   "metadata": {},
   "outputs": [],
   "source": [
    "Il existe d'autres manières d'effectuer des tests, par exemple avec unitest."
   ]
  },
  {
   "cell_type": "markdown",
   "metadata": {},
   "source": [
    "## <font color = red> Exercice </font>\n",
    "<font color = red>Elaborer les spécifications, pré-conditions et post_conditions de la fonction mystère</font>"
   ]
  },
  {
   "cell_type": "code",
   "execution_count": null,
   "metadata": {},
   "outputs": [],
   "source": [
    "def mystere(n):\n",
    "    if n == 1:\n",
    "        return 1\n",
    "    return 1/n + mystere(n-1)\n",
    " \n",
    "print(mystere(2))"
   ]
  },
  {
   "cell_type": "code",
   "execution_count": null,
   "metadata": {},
   "outputs": [],
   "source": [
    "def somme_inverses(n):\n",
    "    \"\"\"\n",
    "    genere la suite 1+1/2 + ... +1/n\n",
    "    \"\"\"\n",
    "    #pré-condition\n",
    "    assert n!=0\n",
    "   \n",
    "    if n == 1:\n",
    "        return 1\n",
    "    return 1/n + somme_inverses(n-1)\n",
    "\n",
    "#post-condition de mystere\n",
    "assert somme_inverses(3) == 1.8333333333333333\n",
    "assert somme_inverses(2)==1.5\n",
    "\n",
    "print(somme_inverses(3))"
   ]
  },
  {
   "cell_type": "code",
   "execution_count": null,
   "metadata": {},
   "outputs": [],
   "source": [
    "on peut (doit?) lever une précondition"
   ]
  },
  {
   "cell_type": "code",
   "execution_count": null,
   "metadata": {},
   "outputs": [],
   "source": [
    "def mystere(n):\n",
    "    \"\"\" \n",
    "    comment lever une pré-condition\n",
    "    \"\"\"\n",
    "    if n <= 0:\n",
    "        return 0\n",
    "    if n == 1:\n",
    "        return 1\n",
    "    return 1/n + mystere(n-1)\n",
    "\n",
    "\n",
    "assert mystere(-1)==0\n",
    "assert mystere(2)==1.5\n",
    "assert mystere(3)==1.8333333333333333\n",
    "\n",
    "mystere(0)"
   ]
  },
  {
   "cell_type": "markdown",
   "metadata": {},
   "source": [
    "<font color = red>Elaborer les tests unitaires de la fonction mystere avec doctest</font>"
   ]
  },
  {
   "cell_type": "code",
   "execution_count": null,
   "metadata": {},
   "outputs": [],
   "source": [
    "# exemple\n",
    "\n",
    "def somme_inverses(n):\n",
    "    \"\"\"\n",
    "    genere la suite 1+1/2 + ... +1/n\n",
    "    >>> somme_inverses(2)\n",
    "    1.5\n",
    "    >>> somme_inverses(3)\n",
    "    1.8333333333333333\n",
    "    \"\"\"\n",
    "    if n == 1:\n",
    "        return 1\n",
    "    return 1/n + somme_inverses(n-1)\n",
    "\n",
    "\n",
    "if __name__ == \"__main__\":\n",
    "    import doctest\n",
    "    doctest.testmod()"
   ]
  },
  {
   "cell_type": "markdown",
   "metadata": {},
   "source": [
    "<font color = red>Elaborer les tests unitaires de la fonction pesanteur</font>"
   ]
  },
  {
   "cell_type": "code",
   "execution_count": null,
   "metadata": {},
   "outputs": [],
   "source": [
    "# la totale\n",
    "\n",
    "def pesanteur(m, r, h):\n",
    "    \"\"\"\n",
    "    calcule l acceleration de la pesanteur d'une planete\n",
    "    parametres: masse en kg, rayon en m et altitude par rapport au sol en m\n",
    "    valeur retournée: g en ms-2\n",
    "    >>> pesanteur(5.976E24,6.373E6,0)\n",
    "    9.81405721990936\n",
    "    >>> pesanteur(6.42E23, 3.397E6,0)\n",
    "    3.7108189714226887\n",
    "    \"\"\"\n",
    "    G = 6.67E-11\n",
    "    g = G*m/(r+h)**2\n",
    "    return(g)\n",
    "\n",
    "\n",
    "if __name__ == \"__main__\":\n",
    "    \n",
    "    import doctest\n",
    "    doctest.testmod()\n",
    "    \n",
    "    # caractéristiques des planètes\n",
    "    planetes = [[\"terre\",5.976E24,6.373E6],[\"mars\",6.42E23, 3.397E6], [\"lune\",7.349E22, 1.7374E6]]\n",
    "    \n",
    "    # demande la planète et l'altitude et affiche sa pesanteur\n",
    "    n =int(input(\"choisir la planete (0: terre, 1: mars, 2: lune \"))\n",
    "    alt= int(input(\"choisir l'altitude en m \"))\n",
    "    print(\"la pesanteur de la \", planetes[n][0], \"vaut: \",round(pesanteur(planetes[n][1],planetes[n][2], alt),2), \" m.s-2\")\n",
    "              "
   ]
  },
  {
   "cell_type": "code",
   "execution_count": 2,
   "metadata": {},
   "outputs": [
    {
     "name": "stdout",
     "output_type": "stream",
     "text": [
      "choisir la planete (0: terre, 1: mars, 2: lune 0\n",
      "choisir l'altitude en m 0\n",
      "la pesanteur de la  terre vaut:  9.81  m.s-2\n",
      "n'importe quoi\n"
     ]
    },
    {
     "ename": "ZeroDivisionError",
     "evalue": "float division by zero",
     "output_type": "error",
     "traceback": [
      "\u001b[1;31m---------------------------------------------------------------------------\u001b[0m",
      "\u001b[1;31mZeroDivisionError\u001b[0m                         Traceback (most recent call last)",
      "\u001b[1;32m<ipython-input-2-0a2c70c41eec>\u001b[0m in \u001b[0;36m<module>\u001b[1;34m\u001b[0m\n\u001b[0;32m     37\u001b[0m     \u001b[0malt\u001b[0m\u001b[1;33m=\u001b[0m \u001b[0mint\u001b[0m\u001b[1;33m(\u001b[0m\u001b[0minput\u001b[0m\u001b[1;33m(\u001b[0m\u001b[1;34m\"choisir l'altitude en m \"\u001b[0m\u001b[1;33m)\u001b[0m\u001b[1;33m)\u001b[0m\u001b[1;33m\u001b[0m\u001b[1;33m\u001b[0m\u001b[0m\n\u001b[0;32m     38\u001b[0m     \u001b[0mprint\u001b[0m\u001b[1;33m(\u001b[0m\u001b[1;34m\"la pesanteur de la \"\u001b[0m\u001b[1;33m,\u001b[0m \u001b[0mplanetes\u001b[0m\u001b[1;33m[\u001b[0m\u001b[0mn\u001b[0m\u001b[1;33m]\u001b[0m\u001b[1;33m[\u001b[0m\u001b[1;36m0\u001b[0m\u001b[1;33m]\u001b[0m\u001b[1;33m,\u001b[0m \u001b[1;34m\"vaut: \"\u001b[0m\u001b[1;33m,\u001b[0m\u001b[0mround\u001b[0m\u001b[1;33m(\u001b[0m\u001b[0mpesanteur\u001b[0m\u001b[1;33m(\u001b[0m\u001b[0mplanetes\u001b[0m\u001b[1;33m[\u001b[0m\u001b[0mn\u001b[0m\u001b[1;33m]\u001b[0m\u001b[1;33m[\u001b[0m\u001b[1;36m1\u001b[0m\u001b[1;33m]\u001b[0m\u001b[1;33m,\u001b[0m\u001b[0mplanetes\u001b[0m\u001b[1;33m[\u001b[0m\u001b[0mn\u001b[0m\u001b[1;33m]\u001b[0m\u001b[1;33m[\u001b[0m\u001b[1;36m2\u001b[0m\u001b[1;33m]\u001b[0m\u001b[1;33m,\u001b[0m \u001b[0malt\u001b[0m\u001b[1;33m)\u001b[0m\u001b[1;33m,\u001b[0m\u001b[1;36m2\u001b[0m\u001b[1;33m)\u001b[0m\u001b[1;33m,\u001b[0m \u001b[1;34m\" m.s-2\"\u001b[0m\u001b[1;33m)\u001b[0m\u001b[1;33m\u001b[0m\u001b[1;33m\u001b[0m\u001b[0m\n\u001b[1;32m---> 39\u001b[1;33m     \u001b[0mpesanteur\u001b[0m\u001b[1;33m(\u001b[0m\u001b[1;36m0\u001b[0m\u001b[1;33m,\u001b[0m \u001b[1;36m0\u001b[0m\u001b[1;33m,\u001b[0m \u001b[1;36m0\u001b[0m\u001b[1;33m)\u001b[0m\u001b[1;33m\u001b[0m\u001b[1;33m\u001b[0m\u001b[0m\n\u001b[0m",
      "\u001b[1;32m<ipython-input-2-0a2c70c41eec>\u001b[0m in \u001b[0;36mpesanteur\u001b[1;34m(m, r, h)\u001b[0m\n\u001b[0;32m     17\u001b[0m \u001b[1;33m\u001b[0m\u001b[0m\n\u001b[0;32m     18\u001b[0m     \u001b[0mG\u001b[0m \u001b[1;33m=\u001b[0m \u001b[1;36m6.67E-11\u001b[0m\u001b[1;33m\u001b[0m\u001b[1;33m\u001b[0m\u001b[0m\n\u001b[1;32m---> 19\u001b[1;33m     \u001b[0mg\u001b[0m \u001b[1;33m=\u001b[0m \u001b[0mG\u001b[0m\u001b[1;33m*\u001b[0m\u001b[0mm\u001b[0m\u001b[1;33m/\u001b[0m\u001b[1;33m(\u001b[0m\u001b[0mr\u001b[0m\u001b[1;33m+\u001b[0m\u001b[0mh\u001b[0m\u001b[1;33m)\u001b[0m\u001b[1;33m**\u001b[0m\u001b[1;36m2\u001b[0m\u001b[1;33m\u001b[0m\u001b[1;33m\u001b[0m\u001b[0m\n\u001b[0m\u001b[0;32m     20\u001b[0m     \u001b[1;32mreturn\u001b[0m\u001b[1;33m(\u001b[0m\u001b[0mg\u001b[0m\u001b[1;33m)\u001b[0m\u001b[1;33m\u001b[0m\u001b[1;33m\u001b[0m\u001b[0m\n\u001b[0;32m     21\u001b[0m \u001b[1;33m\u001b[0m\u001b[0m\n",
      "\u001b[1;31mZeroDivisionError\u001b[0m: float division by zero"
     ]
    }
   ],
   "source": [
    "def pesanteur(m, r, h):\n",
    "    \"\"\"\n",
    "    calcule l acceleration de la pesanteur d'une planete\n",
    "    parametres: masse en kg, rayon en m et altitude par rapport au sol en m\n",
    "    valeur retournée: g en ms-2\n",
    "    >>> pesanteur(5.976E24,6.373E6,0)\n",
    "    9.81405721990936\n",
    "    >>> pesanteur(6.42E23, 3.397E6,0)\n",
    "    3.7108189714226887\n",
    "    \"\"\"\n",
    "    #pré-condition\n",
    "    # assert r+h != 0\n",
    "    \n",
    "    # test erreur en entrée\n",
    "    if r+h ==0:\n",
    "        print(\"n'importe quoi\")\n",
    "    \n",
    "    G = 6.67E-11\n",
    "    g = G*m/(r+h)**2\n",
    "    return(g)\n",
    "\n",
    "\n",
    "if __name__ == \"__main__\":\n",
    "    \n",
    "    import doctest\n",
    "    doctest.testmod()\n",
    "    \n",
    "    # caractéristiques des planètes\n",
    "    planetes = [[\"terre\",5.976E24,6.373E6],[\"mars\",6.42E23, 3.397E6], [\"lune\",7.349E22, 1.7374E6]]\n",
    "    \n",
    "    #post-condition de pesanteur()\n",
    "    assert pesanteur(5.976E24,6.373E6,0) == 9.81405721990936\n",
    "    assert pesanteur(6.42E23, 3.397E6,0) == 3.7108189714226887\n",
    "    \n",
    "    # demande la planète et l'altitude et affiche sa pesanteur\n",
    "    n =int(input(\"choisir la planete (0: terre, 1: mars, 2: lune \"))\n",
    "    alt= int(input(\"choisir l'altitude en m \"))\n",
    "    print(\"la pesanteur de la \", planetes[n][0], \"vaut: \",round(pesanteur(planetes[n][1],planetes[n][2], alt),2), \" m.s-2\")\n",
    "    pesanteur(0, 0, 0)          "
   ]
  },
  {
   "cell_type": "markdown",
   "metadata": {
    "collapsed": true
   },
   "source": [
    "<img src=\"img/python.png\" width=\"200\">"
   ]
  },
  {
   "cell_type": "code",
   "execution_count": null,
   "metadata": {},
   "outputs": [],
   "source": []
  }
 ],
 "metadata": {
  "kernelspec": {
   "display_name": "Python 3",
   "language": "python",
   "name": "python3"
  },
  "language_info": {
   "codemirror_mode": {
    "name": "ipython",
    "version": 3
   },
   "file_extension": ".py",
   "mimetype": "text/x-python",
   "name": "python",
   "nbconvert_exporter": "python",
   "pygments_lexer": "ipython3",
   "version": "3.7.6"
  }
 },
 "nbformat": 4,
 "nbformat_minor": 2
}
