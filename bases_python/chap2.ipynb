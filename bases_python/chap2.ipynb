{
 "cells": [
  {
   "cell_type": "markdown",
   "metadata": {},
   "source": [
    "# Boucles et conditions"
   ]
  },
  {
   "cell_type": "markdown",
   "metadata": {},
   "source": [
    "## Utilisation d'un Notebook Jupyter    \n",
    "### Etapes à suivre  \n",
    "* Créer un dossier chap2 dans votre répetoire personnel\n",
    "* Copier le fichier \"chap2.ipynb\" dans le dossier chap 2\n",
    "* Avec l'outil recherche de Windows, taper \"jupyter\" puis entrée pour le démarrer\n",
    "* Naviguer dans l'arborescence à l'aide du navigateur de Jupyter.\n",
    "* Sélectionner le fichier \"chap2.ipynb\" puis choisir téléverser.\n",
    "* Faire une copie de Fichier avec la commande Fichier > Faire une copie.\n",
    "* Renommer le fichier en \"chap2_votrenom.ipynb\" avec la commande Fichier > Renommer...  \n",
    "\n",
    "### Fonctionnement de Jupyter\n",
    "* Un double-clic sur la cellule permet de la modifier.\n",
    "* Ctrl-Entrée permet d'exécuter la cellule.\n",
    "* On peut effacer le résultat d'un programme avec un simple clic sur la cellule correspondante, puis menu Cellule > Sortie actuelle > Effacer.   \n",
    "\n",
    "### Remarque :\n",
    "* Si le notebook plante (boucle infinie par exemple), essayer de redémarrer le noyau (menu kernel, restart)\n"
   ]
  },
  {
   "cell_type": "markdown",
   "metadata": {},
   "source": [
    "## A - Boucle \"Pour\"\n",
    "L'instruction \"range\" permet de parcourir un ensemble de valeurs. Tester sur les exemples ci dessous puis commenter."
   ]
  },
  {
   "cell_type": "code",
   "execution_count": null,
   "metadata": {},
   "outputs": [],
   "source": [
    "for i in range(10):\n",
    "    print(i)"
   ]
  },
  {
   "cell_type": "code",
   "execution_count": null,
   "metadata": {},
   "outputs": [],
   "source": [
    "for i in range(0,10,1):\n",
    "    print(i)"
   ]
  },
  {
   "cell_type": "markdown",
   "metadata": {},
   "source": [
    "__Commentaires :__"
   ]
  },
  {
   "cell_type": "code",
   "execution_count": null,
   "metadata": {},
   "outputs": [],
   "source": []
  },
  {
   "cell_type": "markdown",
   "metadata": {},
   "source": [
    "__Ex 1 :__\n",
    "modifier la deuxième boucle ci-dessus de manière à:\n",
    "> 1. compter jusqu'à 10 inclus ."
   ]
  },
  {
   "cell_type": "code",
   "execution_count": null,
   "metadata": {},
   "outputs": [],
   "source": []
  },
  {
   "cell_type": "markdown",
   "metadata": {},
   "source": [
    "> 2. compter jusqu'à 10 inclus, de 2 en 2;"
   ]
  },
  {
   "cell_type": "code",
   "execution_count": null,
   "metadata": {},
   "outputs": [],
   "source": []
  },
  {
   "cell_type": "markdown",
   "metadata": {},
   "source": [
    "> 3. compter de 10 à 0 dans l'ordre décroissant."
   ]
  },
  {
   "cell_type": "code",
   "execution_count": null,
   "metadata": {},
   "outputs": [],
   "source": []
  },
  {
   "cell_type": "markdown",
   "metadata": {},
   "source": [
    "__Ex 2 :__  \n",
    "Ecrire un programme qui recueille au clavier les températures de 7 jours successifs et calcule la température moyenne de la semaine.   \n",
    "On utilisera pour l'entrée au clavier de la température:   \n",
    "temperature = float(input())  \n",
    "Chaque jour sera représenté par un numéro."
   ]
  },
  {
   "cell_type": "markdown",
   "metadata": {},
   "source": [
    "__Ex 3 :__  \n",
    "Ecrire un programme Turtle demandant à l'utilisateur un entier n et traçant un escalier à n marches."
   ]
  },
  {
   "cell_type": "code",
   "execution_count": null,
   "metadata": {},
   "outputs": [],
   "source": []
  },
  {
   "cell_type": "markdown",
   "metadata": {},
   "source": [
    "__Ex 4 :__  \n",
    "Ecrire un programme Turtle  demandant à l'utilisateur deux entiers n et m et traçant une grille de n x m cases."
   ]
  },
  {
   "cell_type": "code",
   "execution_count": null,
   "metadata": {},
   "outputs": [],
   "source": []
  },
  {
   "attachments": {
    "image.png": {
     "image/png": "[encoded data removed]"
    }
   },
   "cell_type": "markdown",
   "metadata": {},
   "source": [
    "__Ex 5 :__  \n",
    "Ecrire un programme Turtle demandant à l'utilisateur un entier n et affichant un dégradé de n niveaux de gris du noir au blanc.  \n",
    "\n",
    "![image.png](attachment:image.png)"
   ]
  },
  {
   "cell_type": "code",
   "execution_count": null,
   "metadata": {},
   "outputs": [],
   "source": []
  },
  {
   "cell_type": "markdown",
   "metadata": {},
   "source": [
    "__Ex 6:__  \n",
    "On donne la suite de nombres qui commence par 5, et où l'obtient le nombre suivant en multpliant le précédent par 2 et en enlevant 1.\n",
    "On veut calculer la valeur obtenue à la 100-ème étape.  \n",
    "L'algorithme est le suivant :  \n",
    "\n",
    "__Début__  \n",
    "> u  $\\leftarrow$ 5    \n",
    ">__Pour__ n de 0 jusqu'à 99 :  \n",
    ">> u  $\\leftarrow$ 2$\\times$ u  - 1  \n",
    "\n",
    ">__Fin Pour__  \n",
    ">__afficher__  u   \n",
    ">&nbsp;&nbsp;&nbsp;&nbsp;_cela peut être une bonne idée d'afficher n aussi pour vérifier que l'on a bien ce que l'on veut_  \n",
    "\n",
    "__Fin__\n",
    "\n",
    "Programmer cet algorithme ."
   ]
  },
  {
   "cell_type": "markdown",
   "metadata": {},
   "source": [
    "__Ex 7 :__\n",
    "La suite de Fibonacci est la suite d'entiers $F_n$ définie par $F_0$ = 0 et $F_1$ = 1 , et  \n",
    "pour tout entier n à partir de 2, $F_n$ = $F_{n-1}$ + $F_{n-2}$.   \n",
    "Ecrire un programme qui demande à l'utilisateur un entier n qu'on supposera supérieur ou égal à 2 , et qui affiche la valeur de $F_n$.   \n",
    "Remarque : on pourra utiliser deux variables pour mémoriser $F_{n-1}$ et $F_{n-2}$, ainsi qu'une variable temporaire."
   ]
  },
  {
   "cell_type": "code",
   "execution_count": null,
   "metadata": {},
   "outputs": [],
   "source": []
  },
  {
   "cell_type": "markdown",
   "metadata": {},
   "source": [
    "## B - Boucles et conditions  \n",
    "### Le type booléen\n",
    "\n",
    "Un booléen est une variable qui prend uniquement deux valeurs, vrai ou faux. En ce sens c'est ce qui est le plus proche de la machine. En effet, comme on le verra dans le cours, un ordinateur ne comprend que deux états : le courant passe ou le courant ne passe pas.\n",
    "Les variables booléennes sont utilisées pour les tests ou les boucles.\n",
    "Testez les expressions suivantes :"
   ]
  },
  {
   "cell_type": "code",
   "execution_count": null,
   "metadata": {},
   "outputs": [],
   "source": []
  },
  {
   "cell_type": "code",
   "execution_count": null,
   "metadata": {},
   "outputs": [],
   "source": [
    "3 > 5"
   ]
  },
  {
   "cell_type": "code",
   "execution_count": null,
   "metadata": {},
   "outputs": [],
   "source": [
    "a = 4\n",
    "a >= 4"
   ]
  },
  {
   "cell_type": "code",
   "execution_count": null,
   "metadata": {},
   "outputs": [],
   "source": [
    "a == 4"
   ]
  },
  {
   "cell_type": "code",
   "execution_count": null,
   "metadata": {},
   "outputs": [],
   "source": [
    "a != 4"
   ]
  },
  {
   "cell_type": "code",
   "execution_count": null,
   "metadata": {},
   "outputs": [],
   "source": [
    "a == 4 and 3 > 5"
   ]
  },
  {
   "cell_type": "code",
   "execution_count": null,
   "metadata": {},
   "outputs": [],
   "source": [
    "a == 4 or 3 > 5"
   ]
  },
  {
   "cell_type": "code",
   "execution_count": null,
   "metadata": {},
   "outputs": [],
   "source": [
    "a == 4 or 3 < 5"
   ]
  },
  {
   "cell_type": "code",
   "execution_count": null,
   "metadata": {},
   "outputs": [],
   "source": [
    "not(a == 4)"
   ]
  },
  {
   "cell_type": "markdown",
   "metadata": {},
   "source": [
    "## C - Boucle \"Tant que\" (Instruction itérative)  \n",
    "Faire tourner le programme ci-dessous. Comprendre son fonctionnement."
   ]
  },
  {
   "cell_type": "code",
   "execution_count": null,
   "metadata": {},
   "outputs": [],
   "source": [
    "n = 10\n",
    "while n > 0:\n",
    "    print(n)\n",
    "    n = n - 2"
   ]
  },
  {
   "cell_type": "markdown",
   "metadata": {},
   "source": [
    "__Ex 8 :__  \n",
    "Modifier le programme ci-dessus pour qu'il compte de 10 juqu'à 0 inclus.\n"
   ]
  },
  {
   "cell_type": "code",
   "execution_count": null,
   "metadata": {},
   "outputs": [],
   "source": []
  },
  {
   "cell_type": "markdown",
   "metadata": {},
   "source": [
    "__Ex 9 :__\n",
    "Modifier le programme fig2.py de l'exercice 9 chap 1 de façon à ce qu'il utilise une boucle  tant que et une boucle pour."
   ]
  },
  {
   "cell_type": "code",
   "execution_count": null,
   "metadata": {},
   "outputs": [],
   "source": []
  },
  {
   "cell_type": "markdown",
   "metadata": {},
   "source": [
    "__Ex 10 :__   \n",
    "On reprend la suite de nombres qui commence par 5, et où l'obtient le nombre suivant en multipliant le précédent par 2 et en enlevant 1. On veut trouver après combien d'étapes de calcul on obtient un résultat > 1000000.  \n",
    "L'algorithme est le suivant :  \n",
    "\n",
    "__Début__  \n",
    "> u $\\leftarrow$ 5  # notre nombre de départ\n",
    "\n",
    "> n $\\leftarrow$ 0  # le nombre d'étapes\n",
    "\n",
    ">__Tant que__  u  ≤ 1000000 :  \n",
    ">> u  $\\leftarrow$ 2$\\times$ u  - 1  \n",
    ">> n  $\\leftarrow$  n  + 1  \n",
    "\n",
    ">__Fin tant que__  \n",
    ">__afficher__  n   \n",
    "\n",
    "__Fin__\n",
    "\n",
    "Programmer cet algorithme."
   ]
  },
  {
   "cell_type": "code",
   "execution_count": null,
   "metadata": {},
   "outputs": [],
   "source": []
  },
  {
   "cell_type": "markdown",
   "metadata": {},
   "source": [
    "## D - Les conditions"
   ]
  },
  {
   "cell_type": "markdown",
   "metadata": {},
   "source": [
    "Dans une suite d'instructions, on est souvent amené à faire des choix. La syntaxe est à peu près la même dans tous   \n",
    "les langages :   \n",
    "\n",
    "*__Si__* une ou plusieurs conditions sont réalisées *__alors__* on réalise ces instructions.  \n",
    "Ou bien :  \n",
    "*__Si__*  une ou plusieurs conditions sont réalisées *__alors__* on réalise ces instructions.   \n",
    "*__Sinon__* on réalise ces instructions.    \n",
    "Ou bien encore :  \n",
    "*__Si__* une ou plusieurs conditions sont réalisées *__alors__* on réalise ces instructions.  \n",
    "*__Sinon si__* une ou plusieurs autres conditions sont réalisées *__alors__* on réalise ces instructions.\n",
    "\n",
    "__En Python :__    \n",
    "__if__ condition1:  \n",
    "    - instruction1  \n",
    "    - instruction2  \n",
    "__elif__ condition2:\n",
    "    - instruction3\n",
    "__else:__   \n",
    "    - instruction4  \n",
    "instruction 5   \n",
    "\n",
    "\n",
    "Le \"maître-mot\" est : __indentation__ c'est à dire un décalage \"spatial\" .\n",
    "\n",
    "Dans le programme ci-dessus, instruction1 et instruction2 ne seront exécutées que si la condition1 est réalisée, sinon si la condition2 est réalisée, c'est instruction3 qui sera exécutée, sinon c'est instruction4 qui sera executée tandis que instruction5 sera toujours exécutée.\n",
    "    "
   ]
  },
  {
   "cell_type": "markdown",
   "metadata": {},
   "source": [
    "__Ex 11 :__  \n",
    "Ecrire un programme Turtle demandant à l'utilisateur un entier n et traçant un damier nxn    "
   ]
  },
  {
   "cell_type": "code",
   "execution_count": null,
   "metadata": {},
   "outputs": [],
   "source": []
  },
  {
   "cell_type": "markdown",
   "metadata": {},
   "source": [
    "__Ex 12 :__  \n",
    "Ecrire un programme qui demande à l'utilisateur de saisir un nombre et qui renvoie la parité du nombre."
   ]
  },
  {
   "cell_type": "code",
   "execution_count": null,
   "metadata": {},
   "outputs": [],
   "source": []
  },
  {
   "cell_type": "markdown",
   "metadata": {},
   "source": [
    "Mais si l'utilisateur ne saisit pas un nombre ! Que faire?   \n",
    "On peut utiliser la capture d'exception : \n",
    "\n",
    "__try__:  \n",
    "    - faire quelque chose  \n",
    "__except__:  \n",
    "    - faire autre chose si cela ne fonctionne pas"
   ]
  },
  {
   "cell_type": "markdown",
   "metadata": {},
   "source": [
    "__Ex 13__ :  \n",
    "Modifier le programme précédent pour vérifier que l'utilisateur entre bien un nombre et si cela n'est pas le cas affiche \"vous n'avez pas entré un nombre\"."
   ]
  },
  {
   "cell_type": "code",
   "execution_count": null,
   "metadata": {},
   "outputs": [],
   "source": []
  }
 ],
 "metadata": {
  "kernelspec": {
   "display_name": "Python 3",
   "language": "python",
   "name": "python3"
  },
  "language_info": {
   "codemirror_mode": {
    "name": "ipython",
    "version": 3
   },
   "file_extension": ".py",
   "mimetype": "text/x-python",
   "name": "python",
   "nbconvert_exporter": "python",
   "pygments_lexer": "ipython3",
   "version": "3.8.3"
  }
 },
 "nbformat": 4,
 "nbformat_minor": 4
}
